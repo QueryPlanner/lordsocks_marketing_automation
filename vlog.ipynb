{
 "cells": [
  {
   "cell_type": "code",
   "execution_count": 1,
   "metadata": {},
   "outputs": [],
   "source": [
    "import random\n",
    "import os\n",
    "from dotenv import load_dotenv\n",
    "load_dotenv()\n",
    "GOOGLE_API_KEY = os.getenv('GOOGLE_API_KEY')\n",
    "from PIL import Image\n",
    "from google import genai\n",
    "import time\n",
    "from google.genai import types\n",
    "from IPython.display import Video, HTML\n",
    "from PIL import Image\n",
    "import io\n",
    "VEO_MODEL_ID = \"veo-2.0-generate-001\" \n",
    "import re\n",
    "import time\n",
    "from datetime import datetime"
   ]
  },
  {
   "cell_type": "code",
   "execution_count": null,
   "metadata": {},
   "outputs": [
    {
     "name": "stdout",
     "output_type": "stream",
     "text": [
      "name='models/veo-2.0-generate-001/operations/6vtaqg82si9b' metadata=None done=True error=None response=GenerateVideosResponse(generated_videos=[GeneratedVideo(video=Video(uri=https://generativelanguage.googleapis.com/v1beta/files/v1kh2ngy31xa:download?alt=media, video_bytes=None, mime_type=None)), GeneratedVideo(video=Video(uri=https://generativelanguage.googleapis.com/v1beta/files/jzbxclao9dw9:download?alt=media, video_bytes=None, mime_type=None))], rai_media_filtered_count=None, rai_media_filtered_reasons=None) result=GenerateVideosResponse(generated_videos=[GeneratedVideo(video=Video(uri=https://generativelanguage.googleapis.com/v1beta/files/v1kh2ngy31xa:download?alt=media, video_bytes=None, mime_type=None)), GeneratedVideo(video=Video(uri=https://generativelanguage.googleapis.com/v1beta/files/jzbxclao9dw9:download?alt=media, video_bytes=None, mime_type=None))], rai_media_filtered_count=None, rai_media_filtered_reasons=None)\n"
     ]
    }
   ],
   "source": [
    "import time\n",
    "from google import genai\n",
    "from google.genai import types\n",
    "\n",
    "client = genai.Client(api_key=GOOGLE_API_KEY)\n",
    "\n",
    "operation = client.models.generate_videos(\n",
    "    model=\"veo-2.0-generate-001\",\n",
    "    prompt=\"\"\"\"\"\",\n",
    "    config=types.GenerateVideosConfig(\n",
    "        person_generation=\"allow_adult\",  # \"dont_allow\" or \"allow_adult\"\n",
    "        aspect_ratio=\"9:16\",  # \"16:9\" or \"9:16\"\n",
    "    ),\n",
    ")\n",
    "\n",
    "while not operation.done:\n",
    "    time.sleep(20)\n",
    "    operation = client.operations.get(operation)\n",
    "print(operation)\n",
    "for n, generated_video in enumerate(operation.response.generated_videos):\n",
    "    client.files.download(file=generated_video.video)\n",
    "    generated_video.video.save(f\"video{n}.mp4\")  # save the video\n"
   ]
  },
  {
   "cell_type": "code",
   "execution_count": null,
   "metadata": {},
   "outputs": [],
   "source": []
  }
 ],
 "metadata": {
  "kernelspec": {
   "display_name": "Python 3",
   "language": "python",
   "name": "python3"
  },
  "language_info": {
   "codemirror_mode": {
    "name": "ipython",
    "version": 3
   },
   "file_extension": ".py",
   "mimetype": "text/x-python",
   "name": "python",
   "nbconvert_exporter": "python",
   "pygments_lexer": "ipython3",
   "version": "3.12.2"
  }
 },
 "nbformat": 4,
 "nbformat_minor": 2
}
